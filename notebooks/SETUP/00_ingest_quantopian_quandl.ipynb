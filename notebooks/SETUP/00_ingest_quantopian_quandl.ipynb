{
 "cells": [
  {
   "cell_type": "code",
   "execution_count": 5,
   "id": "listed-arrow",
   "metadata": {},
   "outputs": [
    {
     "name": "stdout",
     "output_type": "stream",
     "text": [
      "alembic==1.5.7\r\n",
      "alphalens==0.4.0\r\n",
      "argon2-cffi==20.1.0\r\n",
      "async-generator==1.10\r\n",
      "attrs==20.3.0\r\n",
      "backcall==0.2.0\r\n",
      "bcolz==1.2.1\r\n",
      "bleach==3.3.0\r\n",
      "Bottleneck==1.3.2\r\n",
      "cached-property==1.5.2\r\n",
      "certifi==2020.12.5\r\n",
      "cffi==1.14.5\r\n",
      "chardet==4.0.0\r\n",
      "chart-studio==1.1.0\r\n",
      "click==7.1.2\r\n",
      "cycler==0.10.0\r\n",
      "decorator==4.4.2\r\n",
      "defusedxml==0.7.1\r\n",
      "empyrical==0.5.5\r\n",
      "entrypoints==0.3\r\n",
      "future==0.18.2\r\n",
      "h5py==3.1.0\r\n",
      "idna==2.10\r\n",
      "importlib-metadata==3.7.3\r\n",
      "inflection==0.5.1\r\n",
      "intervaltree==3.1.0\r\n",
      "ipykernel==5.5.0\r\n",
      "ipython==7.16.1\r\n",
      "ipython-genutils==0.2.0\r\n",
      "ipywidgets==7.6.3\r\n",
      "iso3166==1.0.1\r\n",
      "iso4217==1.6.20180829\r\n",
      "jedi==0.18.0\r\n",
      "Jinja2==2.11.3\r\n",
      "joblib==1.0.1\r\n",
      "jsonschema==3.2.0\r\n",
      "jupyter-client==6.1.12\r\n",
      "jupyter-contrib-core==0.3.3\r\n",
      "jupyter-contrib-nbextensions==0.5.1\r\n",
      "jupyter-core==4.7.1\r\n",
      "jupyter-highlight-selected-word==0.2.0\r\n",
      "jupyter-latex-envs==1.4.6\r\n",
      "jupyter-nbextensions-configurator==0.4.1\r\n",
      "jupyterlab-pygments==0.1.2\r\n",
      "jupyterlab-widgets==1.0.0\r\n",
      "kiwisolver==1.3.1\r\n",
      "Logbook==1.5.3\r\n",
      "lru-dict==1.1.7\r\n",
      "lxml==4.6.2\r\n",
      "Mako==1.1.4\r\n",
      "MarkupSafe==1.1.1\r\n",
      "matplotlib==3.3.4\r\n",
      "mistune==0.8.4\r\n",
      "more-itertools==8.7.0\r\n",
      "multipledispatch==0.6.0\r\n",
      "nbclient==0.5.3\r\n",
      "nbconvert==6.0.7\r\n",
      "nbformat==5.1.2\r\n",
      "nest-asyncio==1.5.1\r\n",
      "networkx==1.11\r\n",
      "notebook==6.2.0\r\n",
      "numexpr==2.7.3\r\n",
      "numpy==1.19.5\r\n",
      "packaging==20.9\r\n",
      "pandas==0.22.0\r\n",
      "pandas-datareader==0.8.1\r\n",
      "pandocfilters==1.4.3\r\n",
      "parso==0.8.1\r\n",
      "patsy==0.5.1\r\n",
      "pexpect==4.8.0\r\n",
      "pickleshare==0.7.5\r\n",
      "Pillow==8.1.2\r\n",
      "plotly==4.14.3\r\n",
      "prometheus-client==0.9.0\r\n",
      "prompt-toolkit==3.0.17\r\n",
      "ptyprocess==0.7.0\r\n",
      "pycparser==2.20\r\n",
      "pyfolio==0.9.2\r\n",
      "Pygments==2.8.1\r\n",
      "pyparsing==2.4.7\r\n",
      "pyrsistent==0.17.3\r\n",
      "python-dateutil==2.8.1\r\n",
      "python-editor==1.0.4\r\n",
      "python-interface==1.6.0\r\n",
      "pytz==2021.1\r\n",
      "PyYAML==5.4.1\r\n",
      "pyzmq==22.0.3\r\n",
      "qgrid==1.3.1\r\n",
      "Quandl==3.6.1\r\n",
      "requests==2.25.1\r\n",
      "retrying==1.3.3\r\n",
      "scikit-learn==0.24.1\r\n",
      "scipy==1.5.4\r\n",
      "seaborn==0.10.1\r\n",
      "Send2Trash==1.5.0\r\n",
      "six==1.15.0\r\n",
      "sortedcontainers==2.3.0\r\n",
      "SQLAlchemy==1.3.23\r\n",
      "statsmodels==0.12.2\r\n",
      "TA-Lib==0.4.19\r\n",
      "tables==3.6.1\r\n",
      "terminado==0.9.2\r\n",
      "testpath==0.4.4\r\n",
      "threadpoolctl==2.1.0\r\n",
      "toolz==0.11.1\r\n",
      "tornado==6.1\r\n",
      "trading-calendars==2.1.1\r\n",
      "traitlets==4.3.3\r\n",
      "typing-extensions==3.7.4.3\r\n",
      "urllib3==1.26.3\r\n",
      "wcwidth==0.2.5\r\n",
      "webencodings==0.5.1\r\n",
      "widgetsnbextension==3.5.1\r\n",
      "zipline==1.4.1\r\n",
      "zipp==3.4.1\r\n"
     ]
    }
   ],
   "source": [
    "!pip freeze"
   ]
  },
  {
   "cell_type": "code",
   "execution_count": 2,
   "id": "atomic-topic",
   "metadata": {},
   "outputs": [
    {
     "name": "stdout",
     "output_type": "stream",
     "text": [
      "[2021-03-15 22:58:35.911401] INFO: zipline.data.bundles.core: Ingesting quantopian-quandl.\n",
      "\u001b[?25lDownloading Bundle: quantopian-quandl  [####################################]  100%          \u001b[?25h\n",
      "[2021-03-15 22:58:42.093963] INFO: zipline.data.bundles.quandl: Writing data to /home/jupyter/zipline/data/quantopian-quandl/2021-03-15T22;58;34.603869.\n"
     ]
    }
   ],
   "source": [
    "!QUANDL_API_KEY=v-vhvkU2VAh5rEj4mD55 zipline ingest"
   ]
  },
  {
   "cell_type": "code",
   "execution_count": 7,
   "id": "surface-cooperation",
   "metadata": {},
   "outputs": [
    {
     "name": "stdout",
     "output_type": "stream",
     "text": [
      "[2021-03-16 02:58:47.980644] INFO: zipline.data.bundles.core: Ingesting quantopian-quandl.\n",
      "\u001b[?25lDownloading Bundle: quantopian-quandl  [####################################]  100%          \u001b[?25h\n",
      "[2021-03-16 02:58:53.325597] INFO: zipline.data.bundles.quandl: Writing data to /home/jupyter/zipline/data/quantopian-quandl/2021-03-16T02;58;46.702598.\n"
     ]
    }
   ],
   "source": [
    "!QUANDL_API_KEY=\"v-vhvkU2VAh5rEj4mD55\" zipline ingest -b quantopian-quandl"
   ]
  },
  {
   "cell_type": "code",
   "execution_count": null,
   "id": "sacred-economy",
   "metadata": {},
   "outputs": [],
   "source": []
  }
 ],
 "metadata": {
  "kernelspec": {
   "display_name": "Python 3",
   "language": "python",
   "name": "python3"
  },
  "language_info": {
   "codemirror_mode": {
    "name": "ipython",
    "version": 3
   },
   "file_extension": ".py",
   "mimetype": "text/x-python",
   "name": "python",
   "nbconvert_exporter": "python",
   "pygments_lexer": "ipython3",
   "version": "3.6.13"
  }
 },
 "nbformat": 4,
 "nbformat_minor": 5
}
